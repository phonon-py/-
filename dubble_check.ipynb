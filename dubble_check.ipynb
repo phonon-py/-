{
 "cells": [
  {
   "cell_type": "code",
   "execution_count": 13,
   "id": "0009430e-1209-4114-a1fb-ad4b46f4ac85",
   "metadata": {},
   "outputs": [
    {
     "name": "stdout",
     "output_type": "stream",
     "text": [
      "Diff_180_A#min.mp3は/Users/kimuratoshiyuki/Dropbox/DEMO＿ALL_Authorityだけに存在\n",
      "Life die_178_Gmin.mp3は/Users/kimuratoshiyuki/Dropbox/DEMO＿ALL_Authorityだけに存在\n",
      "Magic_177_C#min.mp3は/Users/kimuratoshiyuki/Dropbox/DEMO＿ALL_Authorityだけに存在\n",
      "My Image_174_F#min.mp3は/Users/kimuratoshiyuki/Dropbox/DEMO＿ALL_Authorityだけに存在\n",
      "Nickmira6_152_Emin.mp3は/Users/kimuratoshiyuki/Dropbox/DEMO＿ALL_Authorityだけに存在\n",
      "NoRemedy_144_F#min.mp3は/Users/kimuratoshiyuki/Dropbox/DEMO＿ALL_Authorityだけに存在\n",
      "RAGE3_140_D#min.mp3は/Users/kimuratoshiyuki/Dropbox/DEMO＿ALL_Authorityだけに存在\n",
      "lilbaby ty_140_D#min.mp3は/Users/kimuratoshiyuki/Dropbox/DEMO＿ALL_Authorityだけに存在\n",
      "miras_169_Gmin.mp3は/Users/kimuratoshiyuki/Dropbox/DEMO＿ALL_Authorityだけに存在\n",
      "never broken_140_Fmin.mp3は/Users/kimuratoshiyuki/Dropbox/DEMO＿ALL_Authorityだけに存在\n",
      "nick39_140_Fmin.mp3は/Users/kimuratoshiyuki/Dropbox/DEMO＿ALL_Authorityだけに存在\n",
      "nickmira14_174_A#min.mp3は/Users/kimuratoshiyuki/Dropbox/DEMO＿ALL_Authorityだけに存在\n",
      "phyco2_160_C#min.mp3は/Users/kimuratoshiyuki/Dropbox/DEMO＿ALL_Authorityだけに存在\n",
      "pls don't arrest_140_Dmin.mp3は/Users/kimuratoshiyuki/Dropbox/DEMO＿ALL_Authorityだけに存在\n",
      "2 fast_154_A#min.mp3は/Users/kimuratoshiyuki/Dropbox/DEMO＿ALL_updateだけに存在\n",
      ".DS_Storeは両者で異なります（/Users/kimuratoshiyuki/Dropbox/DEMO＿ALL_Authority /Users/kimuratoshiyuki/Dropbox/DEMO＿ALL_update）\n",
      "Rob_180_Fmin.mp3は/Users/kimuratoshiyuki/Dropbox/DEMO＿ALL_Authority/Beat on the market?だけに存在\n",
      "YNWMelly_130_C#min.mp3は/Users/kimuratoshiyuki/Dropbox/DEMO＿ALL_Authority/Beat on the market?だけに存在\n",
      "stratsong_180_F#min.mp3は/Users/kimuratoshiyuki/Dropbox/DEMO＿ALL_Authority/Beat on the market?だけに存在\n",
      "unison_200_Gmin.mp3は/Users/kimuratoshiyuki/Dropbox/DEMO＿ALL_Authority/Beat on the market?だけに存在\n"
     ]
    }
   ],
   "source": [
    "import os\n",
    "import sys\n",
    "import difflib\n",
    "from filecmp import dircmp\n",
    "\n",
    "def view_diff(dcmp):\n",
    "    for name in dcmp.left_only:\n",
    "        print('{}は{}だけに存在'.format(name, dcmp.left))\n",
    "    for name in dcmp.right_only:\n",
    "        print('{}は{}だけに存在'.format(name, dcmp.right))\n",
    "    for name in dcmp.diff_files:\n",
    "        print('{}は両者で異なります（{} {}）'.format(name, dcmp.left, dcmp.right))\n",
    "\n",
    "        # テキストファイルの場合、ファイル内の差分を表示する。\n",
    "        if name.endswith('.txt') or name.endswith('.html'):\n",
    "            diff_text = difflib.context_diff(open(os.path.join(dcmp.left, name)).readlines(),\n",
    "                                             open(os.path.join(dcmp.right, name)).readlines())\n",
    "            sys.stdout.writelines(diff_text)\n",
    "\n",
    "    # 再帰的に探す（サブフォルダを探す）\n",
    "    for sub_dcmp in dcmp.subdirs.values():\n",
    "        view_diff(sub_dcmp)\n",
    "\n",
    "# 比較するフォルダを引数に指定\n",
    "view_diff(dircmp('/Users/kimuratoshiyuki/Dropbox/DEMO＿ALL_Authority', '/Users/kimuratoshiyuki/Dropbox/DEMO＿ALL_update'))"
   ]
  },
  {
   "cell_type": "code",
   "execution_count": null,
   "id": "0273bb6f-1080-471d-90b2-ac90979826d1",
   "metadata": {},
   "outputs": [],
   "source": []
  }
 ],
 "metadata": {
  "kernelspec": {
   "display_name": "Python 3 (ipykernel)",
   "language": "python",
   "name": "python3"
  },
  "language_info": {
   "codemirror_mode": {
    "name": "ipython",
    "version": 3
   },
   "file_extension": ".py",
   "mimetype": "text/x-python",
   "name": "python",
   "nbconvert_exporter": "python",
   "pygments_lexer": "ipython3",
   "version": "3.8.12"
  }
 },
 "nbformat": 4,
 "nbformat_minor": 5
}
